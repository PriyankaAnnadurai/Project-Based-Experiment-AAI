{
  "nbformat": 4,
  "nbformat_minor": 0,
  "metadata": {
    "colab": {
      "provenance": []
    },
    "kernelspec": {
      "name": "python3",
      "display_name": "Python 3"
    },
    "language_info": {
      "name": "python"
    }
  },
  "cells": [
    {
      "cell_type": "code",
      "execution_count": 2,
      "metadata": {
        "colab": {
          "base_uri": "https://localhost:8080/"
        },
        "id": "MKLBD_huq35v",
        "outputId": "8c19b332-0ef3-46c1-9882-fb1ba497c2e0"
      },
      "outputs": [
        {
          "output_type": "stream",
          "name": "stdout",
          "text": [
            "Negative Feedback:\n",
            "The service was terrible. I'm very disappointed.\n",
            "The product quality is poor. I won't be buying again.\n"
          ]
        },
        {
          "output_type": "stream",
          "name": "stderr",
          "text": [
            "[nltk_data] Downloading package vader_lexicon to /root/nltk_data...\n",
            "[nltk_data]   Package vader_lexicon is already up-to-date!\n"
          ]
        }
      ],
      "source": [
        "import nltk\n",
        "from nltk.sentiment import SentimentIntensityAnalyzer\n",
        "\n",
        "# Download NLTK resources\n",
        "nltk.download('vader_lexicon')\n",
        "\n",
        "# Load the sentiment analyzer\n",
        "sia = SentimentIntensityAnalyzer()\n",
        "\n",
        "# Example Facebook data\n",
        "facebook_data = [\n",
        "    \"I love the new feature! It's amazing.\",\n",
        "    \"The service was terrible. I'm very disappointed.\",\n",
        "    \"Great job on the update!\",\n",
        "    \"The product quality is poor. I won't be buying again.\",\n",
        "]\n",
        "\n",
        "# Perform sentiment analysis and filter for negative feedback\n",
        "negative_feedback = []\n",
        "\n",
        "for message in facebook_data:\n",
        "    sentiment_score = sia.polarity_scores(message)['compound']\n",
        "    if sentiment_score < 0:  # Negative sentiment\n",
        "        negative_feedback.append(message)\n",
        "\n",
        "# Print the negative feedback\n",
        "print(\"Negative Feedback:\")\n",
        "for feedback in negative_feedback:\n",
        "    print(feedback)\n"
      ]
    },
    {
      "cell_type": "code",
      "source": [],
      "metadata": {
        "id": "jTjMrQjYrIu2"
      },
      "execution_count": null,
      "outputs": []
    }
  ]
}